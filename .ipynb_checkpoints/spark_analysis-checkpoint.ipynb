{
 "cells": [
  {
   "cell_type": "markdown",
   "id": "49b51f80-0854-4317-abcb-07796325191e",
   "metadata": {},
   "source": [
    "# Stock Price Analysis using Spark"
   ]
  },
  {
   "cell_type": "code",
   "execution_count": 1,
   "id": "e52f50a9-15cc-4c57-94e3-ab1d6fd7de3c",
   "metadata": {
    "tags": []
   },
   "outputs": [],
   "source": [
    "import pyspark\n",
    "from pyspark.sql import SparkSession"
   ]
  },
  {
   "cell_type": "code",
   "execution_count": 2,
   "id": "d98e23f4-fb84-4ad6-b98b-32342ee504a6",
   "metadata": {
    "tags": []
   },
   "outputs": [
    {
     "name": "stderr",
     "output_type": "stream",
     "text": [
      "Setting default log level to \"WARN\".\n",
      "To adjust logging level use sc.setLogLevel(newLevel). For SparkR, use setLogLevel(newLevel).\n",
      "25/01/28 14:15:04 WARN NativeCodeLoader: Unable to load native-hadoop library for your platform... using builtin-java classes where applicable\n"
     ]
    }
   ],
   "source": [
    "spark  = SparkSession.builder.appName('Stock Price Analysis').getOrCreate()"
   ]
  },
  {
   "cell_type": "code",
   "execution_count": 3,
   "id": "09e1df2a-7f75-4378-93ce-3a3b6b65b606",
   "metadata": {},
   "outputs": [],
   "source": [
    "#reading csv file with headers\n",
    "stocks = spark.read.csv('spark-data', header = True)"
   ]
  },
  {
   "cell_type": "code",
   "execution_count": 4,
   "id": "49da071f-206f-47a3-a1b4-1c58a5282734",
   "metadata": {
    "tags": []
   },
   "outputs": [
    {
     "name": "stdout",
     "output_type": "stream",
     "text": [
      "+------+----------+----------+-------+--------+--------+--------+\n",
      "|Ticker|      Date|Close/Last| Volume|    Open|    High|     Low|\n",
      "+------+----------+----------+-------+--------+--------+--------+\n",
      "| BRK-B|05/31/2023|  $321.08 |6175417|$321.12 |$322.41 |$319.39 |\n",
      "| BRK-B|05/30/2023|  $322.19 |3232461|$321.86 |$322.47 |$319.00 |\n",
      "| BRK-B|05/26/2023|  $320.60 |3229873|$320.44 |$322.63 |$319.67 |\n",
      "| BRK-B|05/25/2023|  $319.02 |4251935|$320.56 |$320.56 |$317.71 |\n",
      "| BRK-B|05/24/2023|  $320.20 |3075393|$322.71 |$323.00 |$319.56 |\n",
      "| BRK-B|05/23/2023|  $323.11 |4031342|$328.19 |$329.27 |$322.97 |\n",
      "| BRK-B|05/22/2023|  $329.13 |2763422|$330.75 |$331.49 |$328.35 |\n",
      "| BRK-B|05/19/2023|  $330.39 |4323538|$331.00 |$333.94 |$329.12 |\n",
      "| BRK-B|05/18/2023|  $329.76 |2808329|$326.87 |$329.98 |$325.85 |\n",
      "| BRK-B|05/17/2023|  $327.39 |3047626|$325.02 |$328.26 |$324.82 |\n",
      "+------+----------+----------+-------+--------+--------+--------+\n",
      "only showing top 10 rows\n",
      "\n"
     ]
    }
   ],
   "source": [
    "#show data\n",
    "stocks.show(10)"
   ]
  },
  {
   "cell_type": "code",
   "execution_count": 5,
   "id": "6b5b9d5f-0c61-4714-82d5-1bd908eae94d",
   "metadata": {},
   "outputs": [
    {
     "name": "stdout",
     "output_type": "stream",
     "text": [
      "root\n",
      " |-- Ticker: string (nullable = true)\n",
      " |-- Date: string (nullable = true)\n",
      " |-- Close/Last: string (nullable = true)\n",
      " |-- Volume: string (nullable = true)\n",
      " |-- Open: string (nullable = true)\n",
      " |-- High: string (nullable = true)\n",
      " |-- Low: string (nullable = true)\n",
      "\n"
     ]
    }
   ],
   "source": [
    "# schema of the data\n",
    "stocks.printSchema()"
   ]
  },
  {
   "cell_type": "code",
   "execution_count": 6,
   "id": "3b7399c3-1eb6-424a-9689-2bba09a63490",
   "metadata": {
    "tags": []
   },
   "outputs": [
    {
     "name": "stdout",
     "output_type": "stream",
     "text": [
      "+------+----------+--------+\n",
      "|Ticker|      Date|    Open|\n",
      "+------+----------+--------+\n",
      "| BRK-B|05/31/2023|$321.12 |\n",
      "| BRK-B|05/30/2023|$321.86 |\n",
      "| BRK-B|05/26/2023|$320.44 |\n",
      "| BRK-B|05/25/2023|$320.56 |\n",
      "| BRK-B|05/24/2023|$322.71 |\n",
      "| BRK-B|05/23/2023|$328.19 |\n",
      "| BRK-B|05/22/2023|$330.75 |\n",
      "| BRK-B|05/19/2023|$331.00 |\n",
      "| BRK-B|05/18/2023|$326.87 |\n",
      "| BRK-B|05/17/2023|$325.02 |\n",
      "+------+----------+--------+\n",
      "only showing top 10 rows\n",
      "\n"
     ]
    }
   ],
   "source": [
    "stocks.select(['Ticker', 'Date', 'Open']).show(10)"
   ]
  },
  {
   "cell_type": "code",
   "execution_count": 7,
   "id": "c9cf7c44-10d8-4da1-ad2a-a3883d55f5c4",
   "metadata": {
    "tags": []
   },
   "outputs": [
    {
     "name": "stdout",
     "output_type": "stream",
     "text": [
      "+------+----------+----------+--------+--------+--------+--------+\n",
      "|Ticker|      Date|Close/Last|  Volume|    Open|    High|     Low|\n",
      "+------+----------+----------+--------+--------+--------+--------+\n",
      "|  MSFT|05/31/2023|  $328.39 |45950550|$332.29 |$335.94 |$327.33 |\n",
      "|  MSFT|05/30/2023|  $331.21 |29503070|$335.23 |$335.74 |$330.52 |\n",
      "|  MSFT|05/26/2023|  $332.89 |36630630|$324.02 |$333.40 |$323.88 |\n",
      "|  MSFT|05/25/2023|  $325.92 |43301740|$323.24 |$326.90 |$320.00 |\n",
      "|  MSFT|05/24/2023|  $313.85 |23384890|$314.73 |$316.50 |$312.61 |\n",
      "|  MSFT|05/23/2023|  $315.26 |30797170|$320.03 |$322.72 |$315.25 |\n",
      "|  MSFT|05/22/2023|  $321.18 |24115660|$318.60 |$322.59 |$318.01 |\n",
      "|  MSFT|05/19/2023|  $318.34 |27546700|$316.74 |$318.75 |$316.37 |\n",
      "|  MSFT|05/18/2023|  $318.52 |27275990|$314.53 |$319.04 |$313.72 |\n",
      "|  MSFT|05/17/2023|  $314.00 |24315010|$312.29 |$314.43 |$310.74 |\n",
      "+------+----------+----------+--------+--------+--------+--------+\n",
      "only showing top 10 rows\n",
      "\n"
     ]
    }
   ],
   "source": [
    "#filter some data\n",
    "stocks.filter(stocks.Ticker == 'MSFT').show(10)"
   ]
  },
  {
   "cell_type": "code",
   "execution_count": 8,
   "id": "ed6fc3f4-f5b5-475e-be79-09ca7284dc25",
   "metadata": {
    "tags": []
   },
   "outputs": [
    {
     "name": "stdout",
     "output_type": "stream",
     "text": [
      "+------+----------+----------+--------+--------+--------+--------+\n",
      "|Ticker|      Date|Close/Last|  Volume|    Open|    High|     Low|\n",
      "+------+----------+----------+--------+--------+--------+--------+\n",
      "|  MSFT|05/25/2023|  $325.92 |43301740|$323.24 |$326.90 |$320.00 |\n",
      "+------+----------+----------+--------+--------+--------+--------+\n",
      "\n"
     ]
    }
   ],
   "source": [
    "stocks.filter((stocks.Ticker == 'MSFT') & (stocks.Date == '05/25/2023')).show()"
   ]
  },
  {
   "cell_type": "code",
   "execution_count": 9,
   "id": "cfa7e7a4-7d1d-4065-a36f-9d62c9d34b83",
   "metadata": {
    "tags": []
   },
   "outputs": [
    {
     "name": "stdout",
     "output_type": "stream",
     "text": [
      "+------+----------+----------+--------+--------+--------+--------+\n",
      "|Ticker|      Date|Close/Last|  Volume|    Open|    High|     Low|\n",
      "+------+----------+----------+--------+--------+--------+--------+\n",
      "|  MSFT|05/25/2023|  $325.92 |43301740|$323.24 |$326.90 |$320.00 |\n",
      "|     V|05/25/2023|  $223.38 | 6827756|$222.45 |$224.69 |$220.49 |\n",
      "+------+----------+----------+--------+--------+--------+--------+\n",
      "\n"
     ]
    }
   ],
   "source": [
    "stocks.filter(((stocks.Ticker == 'V') | (stocks.Ticker == 'MSFT')) & (stocks.Date == '05/25/2023')).show(15)"
   ]
  },
  {
   "cell_type": "code",
   "execution_count": 10,
   "id": "8e8689c9-398f-49c2-b002-6e788b879a59",
   "metadata": {
    "tags": []
   },
   "outputs": [
    {
     "name": "stdout",
     "output_type": "stream",
     "text": [
      "+------+----------+----------+--------+--------+--------+--------+\n",
      "|Ticker|      Date|Close/Last|  Volume|    Open|    High|     Low|\n",
      "+------+----------+----------+--------+--------+--------+--------+\n",
      "|  MSFT|05/25/2023|  $325.92 |43301740|$323.24 |$326.90 |$320.00 |\n",
      "|  TSLA|05/25/2023|  $184.47 |96870720|$186.54 |$186.78 |$180.58 |\n",
      "|     V|05/25/2023|  $223.38 | 6827756|$222.45 |$224.69 |$220.49 |\n",
      "|   SPY|05/25/2023|    414.65|90961610|  414.74|  416.16|412.4101|\n",
      "|   QQQ|05/25/2023|    339.72|66862770|  339.14|  341.01| 336.665|\n",
      "+------+----------+----------+--------+--------+--------+--------+\n",
      "\n"
     ]
    }
   ],
   "source": [
    "stocks.filter((stocks.Ticker.isin(['MSFT', 'QQQ', 'SPY', 'V', 'TSLA'])) & (stocks.Date == '05/25/2023')).show()"
   ]
  },
  {
   "cell_type": "markdown",
   "id": "57f856e3-0bde-4290-b838-d63edbbac247",
   "metadata": {},
   "source": [
    "# Data Cleaning and altering data types"
   ]
  },
  {
   "cell_type": "code",
   "execution_count": 11,
   "id": "83b1472d-0899-45b3-a524-b9d69ba03105",
   "metadata": {},
   "outputs": [],
   "source": [
    "from pyspark.sql.functions import udf\n",
    "from pyspark.sql.types import DateType"
   ]
  },
  {
   "cell_type": "code",
   "execution_count": 12,
   "id": "b014cadb-6c0e-4544-94cf-40628f6c03b4",
   "metadata": {
    "tags": []
   },
   "outputs": [],
   "source": [
    "from datetime import datetime"
   ]
  },
  {
   "cell_type": "code",
   "execution_count": 13,
   "id": "161fc97d-a4a7-4464-b358-bf98cf273351",
   "metadata": {
    "tags": []
   },
   "outputs": [],
   "source": [
    "date_parser = udf(lambda date: datetime.strptime(date,\"%m/%d/%Y\"), DateType())"
   ]
  },
  {
   "cell_type": "code",
   "execution_count": 14,
   "id": "2be4b962-c0f5-425f-91c3-bfd2a2314644",
   "metadata": {
    "tags": []
   },
   "outputs": [],
   "source": [
    "stocks = stocks.withColumn(\"ParsedDate\", date_parser(stocks.Date))"
   ]
  },
  {
   "cell_type": "code",
   "execution_count": 15,
   "id": "7e47f758-57fa-4aad-8143-1d156c28b8ca",
   "metadata": {
    "tags": []
   },
   "outputs": [
    {
     "name": "stdout",
     "output_type": "stream",
     "text": [
      "root\n",
      " |-- Ticker: string (nullable = true)\n",
      " |-- Date: string (nullable = true)\n",
      " |-- Close/Last: string (nullable = true)\n",
      " |-- Volume: string (nullable = true)\n",
      " |-- Open: string (nullable = true)\n",
      " |-- High: string (nullable = true)\n",
      " |-- Low: string (nullable = true)\n",
      " |-- ParsedDate: date (nullable = true)\n",
      "\n"
     ]
    }
   ],
   "source": [
    "stocks.printSchema()"
   ]
  },
  {
   "cell_type": "code",
   "execution_count": 16,
   "id": "dc5b3dc6-c9cc-4231-8495-1818b56fe989",
   "metadata": {
    "tags": []
   },
   "outputs": [],
   "source": [
    "def num_parser(value):\n",
    "    if isinstance(value, str):\n",
    "        return float(value.strip('$'))\n",
    "    elif isinstance(value, int) or isinstance(value,float):\n",
    "        return value\n",
    "    else: \n",
    "        return None\n",
    "\n",
    "from pyspark.sql.types import FloatType\n",
    "parser_number = udf(num_parser, FloatType())"
   ]
  },
  {
   "cell_type": "code",
   "execution_count": 17,
   "id": "5c5fe580-2771-4f45-a9b9-5c59b1dd8402",
   "metadata": {
    "tags": []
   },
   "outputs": [],
   "source": [
    "#update the columns with chain operation\n",
    "stocks = (stocks.withColumn('Open', parser_number(stocks.Open))\n",
    "                .withColumn('Close', parser_number(stocks['Close/Last']))\n",
    "                .withColumn('Low', parser_number(stocks.Low))\n",
    "                .withColumn('High', parser_number(stocks.High))\n",
    "         \n",
    "         )\n"
   ]
  },
  {
   "cell_type": "code",
   "execution_count": 18,
   "id": "05a5251d-c4d3-409b-8681-bc82797aba3f",
   "metadata": {
    "tags": []
   },
   "outputs": [
    {
     "name": "stdout",
     "output_type": "stream",
     "text": [
      "+------+----------+----------+-------+------+------+------+----------+------+\n",
      "|Ticker|      Date|Close/Last| Volume|  Open|  High|   Low|ParsedDate| Close|\n",
      "+------+----------+----------+-------+------+------+------+----------+------+\n",
      "| BRK-B|05/31/2023|  $321.08 |6175417|321.12|322.41|319.39|2023-05-31|321.08|\n",
      "| BRK-B|05/30/2023|  $322.19 |3232461|321.86|322.47| 319.0|2023-05-30|322.19|\n",
      "| BRK-B|05/26/2023|  $320.60 |3229873|320.44|322.63|319.67|2023-05-26| 320.6|\n",
      "| BRK-B|05/25/2023|  $319.02 |4251935|320.56|320.56|317.71|2023-05-25|319.02|\n",
      "| BRK-B|05/24/2023|  $320.20 |3075393|322.71| 323.0|319.56|2023-05-24| 320.2|\n",
      "| BRK-B|05/23/2023|  $323.11 |4031342|328.19|329.27|322.97|2023-05-23|323.11|\n",
      "| BRK-B|05/22/2023|  $329.13 |2763422|330.75|331.49|328.35|2023-05-22|329.13|\n",
      "| BRK-B|05/19/2023|  $330.39 |4323538| 331.0|333.94|329.12|2023-05-19|330.39|\n",
      "| BRK-B|05/18/2023|  $329.76 |2808329|326.87|329.98|325.85|2023-05-18|329.76|\n",
      "| BRK-B|05/17/2023|  $327.39 |3047626|325.02|328.26|324.82|2023-05-17|327.39|\n",
      "+------+----------+----------+-------+------+------+------+----------+------+\n",
      "only showing top 10 rows\n",
      "\n"
     ]
    }
   ],
   "source": [
    "stocks.show(10)"
   ]
  },
  {
   "cell_type": "code",
   "execution_count": 19,
   "id": "143a32a0-37f1-402e-a9d8-2921c5668d58",
   "metadata": {
    "tags": []
   },
   "outputs": [],
   "source": [
    "from pyspark.sql.types import IntegerType\n",
    "parse_int = udf(lambda value: int(value), IntegerType())"
   ]
  },
  {
   "cell_type": "code",
   "execution_count": 20,
   "id": "a33d1f2b-7a10-4796-add7-227f671b9a72",
   "metadata": {
    "tags": []
   },
   "outputs": [],
   "source": [
    "stocks = stocks.withColumn('Volume', parse_int(stocks.Volume))"
   ]
  },
  {
   "cell_type": "code",
   "execution_count": 21,
   "id": "3b47f98e-246b-4b70-8574-cab5ea9f13b5",
   "metadata": {
    "tags": []
   },
   "outputs": [
    {
     "name": "stdout",
     "output_type": "stream",
     "text": [
      "root\n",
      " |-- Ticker: string (nullable = true)\n",
      " |-- Date: string (nullable = true)\n",
      " |-- Close/Last: string (nullable = true)\n",
      " |-- Volume: integer (nullable = true)\n",
      " |-- Open: float (nullable = true)\n",
      " |-- High: float (nullable = true)\n",
      " |-- Low: float (nullable = true)\n",
      " |-- ParsedDate: date (nullable = true)\n",
      " |-- Close: float (nullable = true)\n",
      "\n"
     ]
    }
   ],
   "source": [
    "stocks.printSchema()"
   ]
  },
  {
   "cell_type": "code",
   "execution_count": 22,
   "id": "408a87c6-2f89-4485-a169-633b36154aad",
   "metadata": {
    "tags": []
   },
   "outputs": [
    {
     "name": "stdout",
     "output_type": "stream",
     "text": [
      "root\n",
      " |-- Ticker: string (nullable = true)\n",
      " |-- Volume: integer (nullable = true)\n",
      " |-- Open: float (nullable = true)\n",
      " |-- High: float (nullable = true)\n",
      " |-- Low: float (nullable = true)\n",
      " |-- ParsedDate: date (nullable = true)\n",
      " |-- Close: float (nullable = true)\n",
      "\n"
     ]
    }
   ],
   "source": [
    "stocks = stocks.drop('Date', 'Close/Last')\n",
    "\n",
    "stocks.printSchema()"
   ]
  },
  {
   "cell_type": "code",
   "execution_count": 23,
   "id": "c14276fc-60cd-4fb6-9451-2794c8433470",
   "metadata": {
    "tags": []
   },
   "outputs": [
    {
     "name": "stdout",
     "output_type": "stream",
     "text": [
      "+------+-------+------+------+------+----------+------+\n",
      "|Ticker| Volume|  Open|  High|   Low|ParsedDate| Close|\n",
      "+------+-------+------+------+------+----------+------+\n",
      "| BRK-B|6175417|321.12|322.41|319.39|2023-05-31|321.08|\n",
      "| BRK-B|3232461|321.86|322.47| 319.0|2023-05-30|322.19|\n",
      "| BRK-B|3229873|320.44|322.63|319.67|2023-05-26| 320.6|\n",
      "| BRK-B|4251935|320.56|320.56|317.71|2023-05-25|319.02|\n",
      "| BRK-B|3075393|322.71| 323.0|319.56|2023-05-24| 320.2|\n",
      "| BRK-B|4031342|328.19|329.27|322.97|2023-05-23|323.11|\n",
      "| BRK-B|2763422|330.75|331.49|328.35|2023-05-22|329.13|\n",
      "| BRK-B|4323538| 331.0|333.94|329.12|2023-05-19|330.39|\n",
      "| BRK-B|2808329|326.87|329.98|325.85|2023-05-18|329.76|\n",
      "| BRK-B|3047626|325.02|328.26|324.82|2023-05-17|327.39|\n",
      "+------+-------+------+------+------+----------+------+\n",
      "only showing top 10 rows\n",
      "\n"
     ]
    }
   ],
   "source": [
    "stocks.show(10)"
   ]
  },
  {
   "cell_type": "markdown",
   "id": "e1cadda3-8ed7-4c83-b697-2894c9d94326",
   "metadata": {},
   "source": [
    " Statistics about dataset\n"
   ]
  },
  {
   "cell_type": "code",
   "execution_count": 24,
   "id": "62d6e991-76d6-4100-8ac1-e0a89481e967",
   "metadata": {
    "tags": []
   },
   "outputs": [
    {
     "name": "stderr",
     "output_type": "stream",
     "text": [
      "25/01/28 14:15:09 WARN SparkStringUtils: Truncated the string representation of a plan since it was too large. This behavior can be adjusted by setting 'spark.sql.debug.maxToStringFields'.\n"
     ]
    },
    {
     "name": "stdout",
     "output_type": "stream",
     "text": [
      "+-------+--------------------+------------------+------------------+------------------+------------------+\n",
      "|summary|              Volume|              Open|               Low|              High|             Close|\n",
      "+-------+--------------------+------------------+------------------+------------------+------------------+\n",
      "|  count|               15108|             15108|             15108|             15108|             15108|\n",
      "|   mean|5.1868408793685466E7|180.09656566181036| 177.9982781513109| 182.1253348687101| 180.1256089860054|\n",
      "| stddev| 5.496484129953463E7|101.16125813324396|100.26590135955209|101.96625521621728|101.14891782168517|\n",
      "|    min|              961133|             12.07|              11.8|             12.45|             11.93|\n",
      "|    max|           914080943|            479.22|            476.06|            479.98|            477.71|\n",
      "+-------+--------------------+------------------+------------------+------------------+------------------+\n",
      "\n"
     ]
    }
   ],
   "source": [
    "stocks.describe(['Volume', 'Open', 'Low', 'High', 'Close']).show()"
   ]
  },
  {
   "cell_type": "code",
   "execution_count": 25,
   "id": "c129b747-df9d-46b1-9779-ea4ee12b155e",
   "metadata": {
    "tags": []
   },
   "outputs": [
    {
     "name": "stdout",
     "output_type": "stream",
     "text": [
      "+------+------------------+\n",
      "|Ticker|         avg(High)|\n",
      "+------+------------------+\n",
      "| BRK-B|249.72235103785945|\n",
      "|  MSFT|210.81611595729498|\n",
      "|  META| 222.3329786462761|\n",
      "|  TSLA| 147.9295392964358|\n",
      "|  AAPL|108.49219235093751|\n",
      "|  AMZN|123.62966649886442|\n",
      "| GOOGL| 90.59803017820036|\n",
      "|  NVDA|134.14990470104505|\n",
      "|   TSM| 77.55591741717932|\n",
      "|     V|194.85096124432408|\n",
      "|   QQQ|267.93787476749435|\n",
      "|   SPY| 357.4884863286098|\n",
      "+------+------------------+\n",
      "\n"
     ]
    }
   ],
   "source": [
    "# average high price per ticker\n",
    "stocks.groupBy('Ticker').agg({'High': 'avg'}).show()\n",
    "\n"
   ]
  },
  {
   "cell_type": "code",
   "execution_count": 26,
   "id": "60f54fed-9423-4e9c-8837-a24e498df840",
   "metadata": {
    "tags": []
   },
   "outputs": [
    {
     "name": "stdout",
     "output_type": "stream",
     "text": [
      "+------+-----------+\n",
      "|Ticker|max(Volume)|\n",
      "+------+-----------+\n",
      "| BRK-B|   22303500|\n",
      "|  MSFT|  110945000|\n",
      "|  META|  232316600|\n",
      "|  TSLA|  914080943|\n",
      "|  AAPL|  426884800|\n",
      "|  AMZN|  311345600|\n",
      "| GOOGL|  132345540|\n",
      "|  NVDA|  250920160|\n",
      "|   TSM|   60793170|\n",
      "|     V|   38379570|\n",
      "|   QQQ|  199448100|\n",
      "|   SPY|  392220700|\n",
      "+------+-----------+\n",
      "\n"
     ]
    }
   ],
   "source": [
    "# maximum volume per ticker\n",
    "stocks.groupBy('Ticker').agg({'Volume': 'max'}).show()"
   ]
  },
  {
   "cell_type": "markdown",
   "id": "05eacfa4-ae59-45aa-83d1-16664a9f1427",
   "metadata": {
    "tags": []
   },
   "source": [
    "Stock Analysis"
   ]
  },
  {
   "cell_type": "code",
   "execution_count": 27,
   "id": "cc157127-ccbc-40f8-867d-0cba61fc98dd",
   "metadata": {
    "tags": []
   },
   "outputs": [
    {
     "name": "stdout",
     "output_type": "stream",
     "text": [
      "+------+---------------+\n",
      "|Ticker|max_stock_price|\n",
      "+------+---------------+\n",
      "| BRK-B|         361.39|\n",
      "|  MSFT|         344.62|\n",
      "|  META|         381.68|\n",
      "|  TSLA|         411.47|\n",
      "|  AAPL|         182.63|\n",
      "|  AMZN|          187.2|\n",
      "| GOOGL|         151.25|\n",
      "|  NVDA|         405.95|\n",
      "|   TSM|         141.61|\n",
      "|     V|         250.05|\n",
      "|   QQQ|         405.57|\n",
      "|   SPY|         479.22|\n",
      "+------+---------------+\n",
      "\n"
     ]
    }
   ],
   "source": [
    "#max stock price for various stocks\n",
    "stocks.groupBy('Ticker').max('Open').withColumnRenamed('max(Open)', 'max_stock_price').show(15)"
   ]
  },
  {
   "cell_type": "code",
   "execution_count": 28,
   "id": "61a403ad-ac7e-4d98-995e-9f3d8d15be6f",
   "metadata": {
    "tags": []
   },
   "outputs": [
    {
     "name": "stdout",
     "output_type": "stream",
     "text": [
      "+------+---------------+------------+\n",
      "|Ticker|max_stock_price|total_volume|\n",
      "+------+---------------+------------+\n",
      "| BRK-B|         361.39|  5862401321|\n",
      "|  MSFT|         344.62| 37976660472|\n",
      "|  META|         381.68| 30148848043|\n",
      "|  TSLA|         411.47|171802975076|\n",
      "|  AAPL|         182.63|139310061360|\n",
      "|  AMZN|          187.2|104503287430|\n",
      "| GOOGL|         151.25| 43956560981|\n",
      "|  NVDA|         405.95| 58787218324|\n",
      "|   TSM|         141.61| 12506470104|\n",
      "|     V|         250.05| 10410997871|\n",
      "|   QQQ|         405.57| 60437153773|\n",
      "|   SPY|         479.22|107925285300|\n",
      "+------+---------------+------------+\n",
      "\n"
     ]
    }
   ],
   "source": [
    "#max stock price and total volume\n",
    "\n",
    "import pyspark.sql.functions as func\n",
    "stocks.groupBy('Ticker').agg(\n",
    "    func.max('Open').alias('max_stock_price'),\n",
    "    func.sum('Volume').alias('total_volume')\n",
    "\n",
    ").show(15)"
   ]
  },
  {
   "cell_type": "code",
   "execution_count": 29,
   "id": "ca8712b7-422c-4aae-ad6e-f07a847f6998",
   "metadata": {
    "tags": []
   },
   "outputs": [],
   "source": [
    "#parse dates\n",
    "stocks = (stocks.withColumn('year', func.year(stocks.ParsedDate))\n",
    "                .withColumn('month', func.month(stocks.ParsedDate))\n",
    "                .withColumn('day', func.dayofmonth(stocks.ParsedDate))\n",
    "                .withColumn('week', func.weekofyear(stocks.ParsedDate))\n",
    "         )"
   ]
  },
  {
   "cell_type": "code",
   "execution_count": 30,
   "id": "9db98061-aacd-452d-94c0-ea900db1e04d",
   "metadata": {
    "tags": []
   },
   "outputs": [
    {
     "name": "stdout",
     "output_type": "stream",
     "text": [
      "+------+-------+------+------+------+----------+------+----+-----+---+----+\n",
      "|Ticker| Volume|  Open|  High|   Low|ParsedDate| Close|year|month|day|week|\n",
      "+------+-------+------+------+------+----------+------+----+-----+---+----+\n",
      "| BRK-B|6175417|321.12|322.41|319.39|2023-05-31|321.08|2023|    5| 31|  22|\n",
      "| BRK-B|3232461|321.86|322.47| 319.0|2023-05-30|322.19|2023|    5| 30|  22|\n",
      "| BRK-B|3229873|320.44|322.63|319.67|2023-05-26| 320.6|2023|    5| 26|  21|\n",
      "| BRK-B|4251935|320.56|320.56|317.71|2023-05-25|319.02|2023|    5| 25|  21|\n",
      "| BRK-B|3075393|322.71| 323.0|319.56|2023-05-24| 320.2|2023|    5| 24|  21|\n",
      "| BRK-B|4031342|328.19|329.27|322.97|2023-05-23|323.11|2023|    5| 23|  21|\n",
      "| BRK-B|2763422|330.75|331.49|328.35|2023-05-22|329.13|2023|    5| 22|  21|\n",
      "| BRK-B|4323538| 331.0|333.94|329.12|2023-05-19|330.39|2023|    5| 19|  20|\n",
      "| BRK-B|2808329|326.87|329.98|325.85|2023-05-18|329.76|2023|    5| 18|  20|\n",
      "| BRK-B|3047626|325.02|328.26|324.82|2023-05-17|327.39|2023|    5| 17|  20|\n",
      "+------+-------+------+------+------+----------+------+----+-----+---+----+\n",
      "only showing top 10 rows\n",
      "\n"
     ]
    }
   ],
   "source": [
    "stocks.show(10)"
   ]
  },
  {
   "cell_type": "code",
   "execution_count": 31,
   "id": "861843fd-d108-4a65-bd49-e9c954f78dee",
   "metadata": {
    "tags": []
   },
   "outputs": [],
   "source": [
    "# yearly high and low stock prices\n",
    "yearly = stocks.groupBy(['Ticker', 'year']).agg(func.max('Open').alias('yearly_high'), func.min('Open').alias('yearly_low'))"
   ]
  },
  {
   "cell_type": "code",
   "execution_count": 32,
   "id": "c1215102-b9b2-49fe-99f3-ca77f4411e20",
   "metadata": {
    "tags": []
   },
   "outputs": [
    {
     "name": "stdout",
     "output_type": "stream",
     "text": [
      "+------+----+-----------+----------+\n",
      "|Ticker|year|yearly_high|yearly_low|\n",
      "+------+----+-----------+----------+\n",
      "| BRK-B|2023|      331.0|    294.68|\n",
      "|  MSFT|2019|     159.45|     99.55|\n",
      "|  MSFT|2021|     344.62|    212.17|\n",
      "| BRK-B|2018|      224.0|    185.43|\n",
      "|  MSFT|2020|     229.27|    137.01|\n",
      "| BRK-B|2021|     300.88|    228.21|\n",
      "|  MSFT|2018|     115.42|     95.14|\n",
      "| BRK-B|2020|     233.92|     165.3|\n",
      "|  MSFT|2023|     335.23|     223.0|\n",
      "| BRK-B|2019|     227.27|    194.78|\n",
      "|  MSFT|2022|     335.35|    217.55|\n",
      "| BRK-B|2022|     361.39|    260.58|\n",
      "|  META|2020|     300.16|    139.75|\n",
      "|  META|2021|     381.68|     247.9|\n",
      "|  TSLA|2019|       29.0|     12.07|\n",
      "|  META|2018|     215.72|     123.1|\n",
      "|  TSLA|2021|     411.47|    184.18|\n",
      "|  TSLA|2018|       25.0|     17.02|\n",
      "|  META|2022|     339.95|     90.08|\n",
      "|  META|2019|     208.67|    128.99|\n",
      "+------+----+-----------+----------+\n",
      "only showing top 20 rows\n",
      "\n"
     ]
    }
   ],
   "source": [
    "yearly.show()"
   ]
  },
  {
   "cell_type": "code",
   "execution_count": 33,
   "id": "d5ec25a6-db74-46a5-a198-32c2061317bf",
   "metadata": {
    "tags": []
   },
   "outputs": [],
   "source": [
    "#calculate average stock price for each month\n",
    "## Calculate average stock price for stock each month\n",
    "monthly = stocks.groupBy(['Ticker', 'Year', 'Month']).agg(func.max(\"Open\").alias(\"month_high\"), func.min(\"Open\").alias(\"month_low\"))\n"
   ]
  },
  {
   "cell_type": "code",
   "execution_count": 34,
   "id": "87cb16ad-07c6-457a-b5b4-91252df0e791",
   "metadata": {
    "tags": []
   },
   "outputs": [
    {
     "name": "stdout",
     "output_type": "stream",
     "text": [
      "+------+----+-----+----------+---------+\n",
      "|Ticker|Year|Month|month_high|month_low|\n",
      "+------+----+-----+----------+---------+\n",
      "| BRK-B|2022|   10|    297.98|   260.58|\n",
      "| BRK-B|2018|    9|    222.13|   209.21|\n",
      "|  MSFT|2022|    6|     275.2|   243.86|\n",
      "|  MSFT|2021|    2|    245.03|   230.01|\n",
      "|  MSFT|2020|    1|    174.05|   157.08|\n",
      "| BRK-B|2021|   10|    290.85|   273.02|\n",
      "| BRK-B|2020|   10|    216.74|   200.03|\n",
      "|  MSFT|2019|    6|    137.45|   121.28|\n",
      "|  MSFT|2022|   10|    247.93|   219.85|\n",
      "| BRK-B|2019|    9|    212.24|   201.19|\n",
      "+------+----+-----+----------+---------+\n",
      "only showing top 10 rows\n",
      "\n"
     ]
    }
   ],
   "source": [
    "monthly.show(10)"
   ]
  },
  {
   "cell_type": "code",
   "execution_count": 35,
   "id": "ab01b609-d00c-44b0-a026-ca70b4ccd0e0",
   "metadata": {
    "tags": []
   },
   "outputs": [],
   "source": [
    "#calculate average stock price for each week\n",
    "weekly = stocks.groupBy(['Ticker', 'Year', 'Week']).agg(func.max(\"Open\").alias(\"week_high\"), func.min(\"Open\").alias(\"week_low\"))"
   ]
  },
  {
   "cell_type": "code",
   "execution_count": 36,
   "id": "99b4f23d-e98f-4755-9429-94516e77681c",
   "metadata": {
    "tags": []
   },
   "outputs": [
    {
     "name": "stdout",
     "output_type": "stream",
     "text": [
      "+------+----+----+---------+--------+\n",
      "|Ticker|Year|Week|week_high|week_low|\n",
      "+------+----+----+---------+--------+\n",
      "| BRK-B|2022|  14|    352.0|  341.17|\n",
      "| BRK-B|2022|  10|   326.59|  322.49|\n",
      "| BRK-B|2021|  14|   264.22|  260.02|\n",
      "| BRK-B|2018|  48|   217.23|   209.3|\n",
      "|  MSFT|2022|   6|   309.87|  301.25|\n",
      "|  MSFT|2021|   2|   218.47|  213.52|\n",
      "| BRK-B|2020|  19|   180.05|   173.4|\n",
      "|  MSFT|2020|   1|   158.78|  158.32|\n",
      "| BRK-B|2021|  32|   291.81|  287.01|\n",
      "| BRK-B|2021|  10|   264.22|   255.6|\n",
      "| BRK-B|2020|  10|   217.39|  203.48|\n",
      "| BRK-B|2020|  28|    183.1|  178.26|\n",
      "|  MSFT|2021|  41|   302.34|  292.92|\n",
      "|  MSFT|2020|  19|   184.98|  174.49|\n",
      "| BRK-B|2019|  30|   208.37|  205.34|\n",
      "+------+----+----+---------+--------+\n",
      "only showing top 15 rows\n",
      "\n"
     ]
    }
   ],
   "source": [
    "weekly.show(15)"
   ]
  },
  {
   "cell_type": "code",
   "execution_count": 37,
   "id": "0f742be6-ea04-4c7b-86fc-9771096f70eb",
   "metadata": {},
   "outputs": [
    {
     "name": "stdout",
     "output_type": "stream",
     "text": [
      "+------+----+----+---------+--------+------+\n",
      "|Ticker|Year|Week|week_high|week_low|spread|\n",
      "+------+----+----+---------+--------+------+\n",
      "| BRK-B|2022|  14|    352.0|  341.17| 10.83|\n",
      "| BRK-B|2022|  10|   326.59|  322.49|   4.1|\n",
      "| BRK-B|2021|  14|   264.22|  260.02|   4.2|\n",
      "| BRK-B|2018|  48|   217.23|   209.3|  7.93|\n",
      "|  MSFT|2022|   6|   309.87|  301.25|  8.62|\n",
      "|  MSFT|2021|   2|   218.47|  213.52|  4.95|\n",
      "| BRK-B|2020|  19|   180.05|   173.4|  6.65|\n",
      "|  MSFT|2020|   1|   158.78|  158.32|  0.46|\n",
      "| BRK-B|2021|  32|   291.81|  287.01|   4.8|\n",
      "| BRK-B|2021|  10|   264.22|   255.6|  8.62|\n",
      "| BRK-B|2020|  10|   217.39|  203.48| 13.91|\n",
      "| BRK-B|2020|  28|    183.1|  178.26|  4.84|\n",
      "|  MSFT|2021|  41|   302.34|  292.92|  9.42|\n",
      "|  MSFT|2020|  19|   184.98|  174.49| 10.49|\n",
      "| BRK-B|2019|  30|   208.37|  205.34|  3.03|\n",
      "|  MSFT|2019|  43|   139.39|  136.88|  2.51|\n",
      "|  MSFT|2021|  44|   338.51|  330.31|   8.2|\n",
      "|  MSFT|2019|   6|    107.0|  102.87|  4.13|\n",
      "|  MSFT|2022|  10|   288.53|   277.8| 10.73|\n",
      "| BRK-B|2019|  23|   204.95|  197.62|  7.33|\n",
      "+------+----+----+---------+--------+------+\n",
      "only showing top 20 rows\n",
      "\n"
     ]
    }
   ],
   "source": [
    "# difference between high and low stock prices wekkly \n",
    "from pyspark.sql.functions import round\n",
    "weekly.withColumn('spread', round(weekly['week_high'] - weekly['week_low'], 3)).show()\n"
   ]
  },
  {
   "cell_type": "code",
   "execution_count": null,
   "id": "bf8955eb-28e7-437c-acd8-7b5309a15d8e",
   "metadata": {
    "tags": []
   },
   "outputs": [],
   "source": []
  },
  {
   "cell_type": "markdown",
   "id": "3cc0719f-9b45-4c80-94cb-5588a74219ef",
   "metadata": {},
   "source": [
    "# Using joins"
   ]
  },
  {
   "cell_type": "code",
   "execution_count": 38,
   "id": "4bfc3b52-1505-4428-948d-57c880fa9819",
   "metadata": {
    "tags": []
   },
   "outputs": [],
   "source": [
    "# joining yearly and stocks dataframes and remove duplicated columns\n",
    "historic_stocks = stocks.join(yearly, (stocks.Ticker == yearly.Ticker) & (stocks.year == yearly.year), 'inner').drop(yearly.year, yearly.Ticker)"
   ]
  },
  {
   "cell_type": "code",
   "execution_count": 39,
   "id": "ec199183-5955-46a2-a625-b4b325e36f07",
   "metadata": {
    "tags": []
   },
   "outputs": [
    {
     "name": "stdout",
     "output_type": "stream",
     "text": [
      "+-------+------+------+------+----------+------+-----+---+----+------+----+-----------+----------+\n",
      "| Volume|  Open|  High|   Low|ParsedDate| Close|month|day|week|Ticker|year|yearly_high|yearly_low|\n",
      "+-------+------+------+------+----------+------+-----+---+----+------+----+-----------+----------+\n",
      "|6175417|321.12|322.41|319.39|2023-05-31|321.08|    5| 31|  22| BRK-B|2023|      331.0|    294.68|\n",
      "|3232461|321.86|322.47| 319.0|2023-05-30|322.19|    5| 30|  22| BRK-B|2023|      331.0|    294.68|\n",
      "|3229873|320.44|322.63|319.67|2023-05-26| 320.6|    5| 26|  21| BRK-B|2023|      331.0|    294.68|\n",
      "|4251935|320.56|320.56|317.71|2023-05-25|319.02|    5| 25|  21| BRK-B|2023|      331.0|    294.68|\n",
      "|3075393|322.71| 323.0|319.56|2023-05-24| 320.2|    5| 24|  21| BRK-B|2023|      331.0|    294.68|\n",
      "|4031342|328.19|329.27|322.97|2023-05-23|323.11|    5| 23|  21| BRK-B|2023|      331.0|    294.68|\n",
      "|2763422|330.75|331.49|328.35|2023-05-22|329.13|    5| 22|  21| BRK-B|2023|      331.0|    294.68|\n",
      "|4323538| 331.0|333.94|329.12|2023-05-19|330.39|    5| 19|  20| BRK-B|2023|      331.0|    294.68|\n",
      "|2808329|326.87|329.98|325.85|2023-05-18|329.76|    5| 18|  20| BRK-B|2023|      331.0|    294.68|\n",
      "|3047626|325.02|328.26|324.82|2023-05-17|327.39|    5| 17|  20| BRK-B|2023|      331.0|    294.68|\n",
      "|2139996|322.46|324.69|322.36|2023-05-16|323.75|    5| 16|  20| BRK-B|2023|      331.0|    294.68|\n",
      "|2191609|322.89|323.83|320.13|2023-05-15|323.53|    5| 15|  20| BRK-B|2023|      331.0|    294.68|\n",
      "|1938264|323.82|324.24|320.54|2023-05-12|322.49|    5| 12|  19| BRK-B|2023|      331.0|    294.68|\n",
      "|2549339| 321.0|322.96|319.81|2023-05-11|322.64|    5| 11|  19| BRK-B|2023|      331.0|    294.68|\n",
      "|2641134|326.08|326.16|320.15|2023-05-10|322.99|    5| 10|  19| BRK-B|2023|      331.0|    294.68|\n",
      "|2285924|324.87|326.88|323.48|2023-05-09|324.87|    5|  9|  19| BRK-B|2023|      331.0|    294.68|\n",
      "|3303393|328.26|330.69|325.79|2023-05-08|326.14|    5|  8|  19| BRK-B|2023|      331.0|    294.68|\n",
      "|3876299|323.36|325.16|322.62|2023-05-05|323.88|    5|  5|  18| BRK-B|2023|      331.0|    294.68|\n",
      "|3194768|323.44|325.99|317.41|2023-05-04| 320.0|    5|  4|  18| BRK-B|2023|      331.0|    294.68|\n",
      "|2660456|327.13|328.07|323.06|2023-05-03|323.22|    5|  3|  18| BRK-B|2023|      331.0|    294.68|\n",
      "+-------+------+------+------+----------+------+-----+---+----+------+----+-----------+----------+\n",
      "only showing top 20 rows\n",
      "\n"
     ]
    }
   ],
   "source": [
    "historic_stocks.show()"
   ]
  },
  {
   "cell_type": "code",
   "execution_count": 40,
   "id": "71515903-8e86-4981-b09c-f0d841d9047d",
   "metadata": {
    "tags": []
   },
   "outputs": [],
   "source": [
    "cond = [(historic_stocks.Ticker==weekly.Ticker) & (historic_stocks.year == weekly.Year) & (historic_stocks.week == weekly.Week)]\n",
    "historic_stocks = historic_stocks.join(weekly, cond, 'inner').drop(weekly.Year, historic_stocks.Ticker, weekly.Week)"
   ]
  },
  {
   "cell_type": "code",
   "execution_count": 41,
   "id": "ebfa666d-50bf-4d22-afd3-ffd4d5c8e521",
   "metadata": {
    "tags": []
   },
   "outputs": [
    {
     "name": "stdout",
     "output_type": "stream",
     "text": [
      "+-------+------+------+------+----------+------+-----+---+----+-----------+----------+------+----+---------+--------+\n",
      "| Volume|  Open|  High|   Low|ParsedDate| Close|month|day|year|yearly_high|yearly_low|Ticker|Week|week_high|week_low|\n",
      "+-------+------+------+------+----------+------+-----+---+----+-----------+----------+------+----+---------+--------+\n",
      "|6175417|321.12|322.41|319.39|2023-05-31|321.08|    5| 31|2023|      331.0|    294.68| BRK-B|  22|   321.86|  321.12|\n",
      "|3232461|321.86|322.47| 319.0|2023-05-30|322.19|    5| 30|2023|      331.0|    294.68| BRK-B|  22|   321.86|  321.12|\n",
      "|3229873|320.44|322.63|319.67|2023-05-26| 320.6|    5| 26|2023|      331.0|    294.68| BRK-B|  21|   330.75|  320.44|\n",
      "|4251935|320.56|320.56|317.71|2023-05-25|319.02|    5| 25|2023|      331.0|    294.68| BRK-B|  21|   330.75|  320.44|\n",
      "|3075393|322.71| 323.0|319.56|2023-05-24| 320.2|    5| 24|2023|      331.0|    294.68| BRK-B|  21|   330.75|  320.44|\n",
      "|4031342|328.19|329.27|322.97|2023-05-23|323.11|    5| 23|2023|      331.0|    294.68| BRK-B|  21|   330.75|  320.44|\n",
      "|2763422|330.75|331.49|328.35|2023-05-22|329.13|    5| 22|2023|      331.0|    294.68| BRK-B|  21|   330.75|  320.44|\n",
      "|4323538| 331.0|333.94|329.12|2023-05-19|330.39|    5| 19|2023|      331.0|    294.68| BRK-B|  20|    331.0|  322.46|\n",
      "|2808329|326.87|329.98|325.85|2023-05-18|329.76|    5| 18|2023|      331.0|    294.68| BRK-B|  20|    331.0|  322.46|\n",
      "|3047626|325.02|328.26|324.82|2023-05-17|327.39|    5| 17|2023|      331.0|    294.68| BRK-B|  20|    331.0|  322.46|\n",
      "|2139996|322.46|324.69|322.36|2023-05-16|323.75|    5| 16|2023|      331.0|    294.68| BRK-B|  20|    331.0|  322.46|\n",
      "|2191609|322.89|323.83|320.13|2023-05-15|323.53|    5| 15|2023|      331.0|    294.68| BRK-B|  20|    331.0|  322.46|\n",
      "|1938264|323.82|324.24|320.54|2023-05-12|322.49|    5| 12|2023|      331.0|    294.68| BRK-B|  19|   328.26|   321.0|\n",
      "|2549339| 321.0|322.96|319.81|2023-05-11|322.64|    5| 11|2023|      331.0|    294.68| BRK-B|  19|   328.26|   321.0|\n",
      "|2641134|326.08|326.16|320.15|2023-05-10|322.99|    5| 10|2023|      331.0|    294.68| BRK-B|  19|   328.26|   321.0|\n",
      "|2285924|324.87|326.88|323.48|2023-05-09|324.87|    5|  9|2023|      331.0|    294.68| BRK-B|  19|   328.26|   321.0|\n",
      "|3303393|328.26|330.69|325.79|2023-05-08|326.14|    5|  8|2023|      331.0|    294.68| BRK-B|  19|   328.26|   321.0|\n",
      "|3876299|323.36|325.16|322.62|2023-05-05|323.88|    5|  5|2023|      331.0|    294.68| BRK-B|  18|   330.15|  323.36|\n",
      "|3194768|323.44|325.99|317.41|2023-05-04| 320.0|    5|  4|2023|      331.0|    294.68| BRK-B|  18|   330.15|  323.36|\n",
      "|2660456|327.13|328.07|323.06|2023-05-03|323.22|    5|  3|2023|      331.0|    294.68| BRK-B|  18|   330.15|  323.36|\n",
      "+-------+------+------+------+----------+------+-----+---+----+-----------+----------+------+----+---------+--------+\n",
      "only showing top 20 rows\n",
      "\n"
     ]
    }
   ],
   "source": [
    "historic_stocks.show()"
   ]
  },
  {
   "cell_type": "code",
   "execution_count": 42,
   "id": "f27e34ed-6bbe-4ff8-ab9e-068c6e7e7ef4",
   "metadata": {
    "tags": []
   },
   "outputs": [],
   "source": [
    "historic_stocks = historic_stocks.join(monthly, ['Ticker', 'Year', 'Month'])"
   ]
  },
  {
   "cell_type": "code",
   "execution_count": 43,
   "id": "de2c4a23-f689-462c-8f85-bd0043385072",
   "metadata": {
    "tags": []
   },
   "outputs": [
    {
     "data": {
      "text/plain": [
       "['Ticker',\n",
       " 'year',\n",
       " 'month',\n",
       " 'Volume',\n",
       " 'Open',\n",
       " 'High',\n",
       " 'Low',\n",
       " 'ParsedDate',\n",
       " 'Close',\n",
       " 'day',\n",
       " 'yearly_high',\n",
       " 'yearly_low',\n",
       " 'Week',\n",
       " 'week_high',\n",
       " 'week_low',\n",
       " 'month_high',\n",
       " 'month_low']"
      ]
     },
     "execution_count": 43,
     "metadata": {},
     "output_type": "execute_result"
    }
   ],
   "source": [
    "historic_stocks.columns"
   ]
  },
  {
   "cell_type": "code",
   "execution_count": 44,
   "id": "e9ce725b-5371-40ef-9e92-35187fb40621",
   "metadata": {
    "tags": []
   },
   "outputs": [
    {
     "name": "stdout",
     "output_type": "stream",
     "text": [
      "root\n",
      " |-- Ticker: string (nullable = true)\n",
      " |-- year: integer (nullable = true)\n",
      " |-- month: integer (nullable = true)\n",
      " |-- Volume: integer (nullable = true)\n",
      " |-- Open: float (nullable = true)\n",
      " |-- High: float (nullable = true)\n",
      " |-- Low: float (nullable = true)\n",
      " |-- ParsedDate: date (nullable = true)\n",
      " |-- Close: float (nullable = true)\n",
      " |-- Day: integer (nullable = true)\n",
      " |-- Yearly_High: float (nullable = true)\n",
      " |-- Yearly_Low: float (nullable = true)\n",
      " |-- Week: integer (nullable = true)\n",
      " |-- Weekly_High: float (nullable = true)\n",
      " |-- Weekly_Low: float (nullable = true)\n",
      " |-- Monthly_High: float (nullable = true)\n",
      " |-- Monthly_Low: float (nullable = true)\n",
      "\n"
     ]
    }
   ],
   "source": [
    "#correcting column mistakes and start columns with capital letter\n",
    "corrected_columns = {\n",
    "    'week_high': 'Weekly_High',\n",
    "    'week_low': 'Weekly_Low',\n",
    "    'yearly_high': 'Yearly_High',\n",
    "    'yearly_low': 'Yearly_Low',\n",
    "    'month_high': 'Monthly_High',\n",
    "    'month_low': 'Monthly_Low',\n",
    "    'day': 'Day'\n",
    "}\n",
    "\n",
    "# Apply renaming\n",
    "for old_col, new_col in corrected_columns.items():\n",
    "    historic_stocks = historic_stocks.withColumnRenamed(old_col, new_col)\n",
    "\n",
    "# Show the updated schema\n",
    "historic_stocks.printSchema()"
   ]
  },
  {
   "cell_type": "code",
   "execution_count": 45,
   "id": "f97b5c30-5b1d-4235-90cf-f04c18afd649",
   "metadata": {
    "tags": []
   },
   "outputs": [
    {
     "data": {
      "text/plain": [
       "['Ticker',\n",
       " 'year',\n",
       " 'month',\n",
       " 'Volume',\n",
       " 'Open',\n",
       " 'High',\n",
       " 'Low',\n",
       " 'ParsedDate',\n",
       " 'Close',\n",
       " 'Day',\n",
       " 'Yearly_High',\n",
       " 'Yearly_Low',\n",
       " 'Week',\n",
       " 'Weekly_High',\n",
       " 'Weekly_Low',\n",
       " 'Monthly_High',\n",
       " 'Monthly_Low']"
      ]
     },
     "execution_count": 45,
     "metadata": {},
     "output_type": "execute_result"
    }
   ],
   "source": [
    "historic_stocks.columns"
   ]
  },
  {
   "cell_type": "code",
   "execution_count": 46,
   "id": "62ce0fa1-f4d3-40e4-8f5a-027eaa3aec70",
   "metadata": {
    "tags": []
   },
   "outputs": [
    {
     "name": "stdout",
     "output_type": "stream",
     "text": [
      "+------+----+-----+-------+------+------+------+----------+------+---+-----------+----------+----+-----------+----------+------------+-----------+\n",
      "|Ticker|year|month| Volume|  Open|  High|   Low|ParsedDate| Close|Day|Yearly_High|Yearly_Low|Week|Weekly_High|Weekly_Low|Monthly_High|Monthly_Low|\n",
      "+------+----+-----+-------+------+------+------+----------+------+---+-----------+----------+----+-----------+----------+------------+-----------+\n",
      "| BRK-B|2023|    5|6175417|321.12|322.41|319.39|2023-05-31|321.08| 31|      331.0|    294.68|  22|     321.86|    321.12|       331.0|     320.44|\n",
      "| BRK-B|2023|    5|3232461|321.86|322.47| 319.0|2023-05-30|322.19| 30|      331.0|    294.68|  22|     321.86|    321.12|       331.0|     320.44|\n",
      "| BRK-B|2023|    5|3229873|320.44|322.63|319.67|2023-05-26| 320.6| 26|      331.0|    294.68|  21|     330.75|    320.44|       331.0|     320.44|\n",
      "| BRK-B|2023|    5|4251935|320.56|320.56|317.71|2023-05-25|319.02| 25|      331.0|    294.68|  21|     330.75|    320.44|       331.0|     320.44|\n",
      "| BRK-B|2023|    5|3075393|322.71| 323.0|319.56|2023-05-24| 320.2| 24|      331.0|    294.68|  21|     330.75|    320.44|       331.0|     320.44|\n",
      "+------+----+-----+-------+------+------+------+----------+------+---+-----------+----------+----+-----------+----------+------------+-----------+\n",
      "only showing top 5 rows\n",
      "\n"
     ]
    }
   ],
   "source": [
    "historic_stocks.show(5)"
   ]
  },
  {
   "cell_type": "markdown",
   "id": "402db128-1ddd-4b9e-ba4e-e96feeaf8e18",
   "metadata": {},
   "source": [
    "sql queries using pyspark"
   ]
  },
  {
   "cell_type": "code",
   "execution_count": 47,
   "id": "7e854a1a-e5fd-4487-8254-613c984ace0f",
   "metadata": {
    "tags": []
   },
   "outputs": [],
   "source": [
    "historic_stocks.createOrReplaceTempView('stockData')"
   ]
  },
  {
   "cell_type": "code",
   "execution_count": 48,
   "id": "4b0ddd71-d494-466c-b5a4-28a17ae7e44f",
   "metadata": {
    "tags": []
   },
   "outputs": [
    {
     "name": "stdout",
     "output_type": "stream",
     "text": [
      "+------+----+-----+--------+------+------+------+----------+------+---+-----------+----------+----+-----------+----------+------------+-----------+\n",
      "|Ticker|year|month|  Volume|  Open|  High|   Low|ParsedDate| Close|Day|Yearly_High|Yearly_Low|Week|Weekly_High|Weekly_Low|Monthly_High|Monthly_Low|\n",
      "+------+----+-----+--------+------+------+------+----------+------+---+-----------+----------+----+-----------+----------+------------+-----------+\n",
      "|  MSFT|2023|    5|45950550|332.29|335.94|327.33|2023-05-31|328.39| 31|     335.23|     223.0|  22|     335.23|    332.29|      335.23|     305.72|\n",
      "|  MSFT|2023|    5|29503070|335.23|335.74|330.52|2023-05-30|331.21| 30|     335.23|     223.0|  22|     335.23|    332.29|      335.23|     305.72|\n",
      "|  MSFT|2023|    5|36630630|324.02| 333.4|323.88|2023-05-26|332.89| 26|     335.23|     223.0|  21|     324.02|    314.73|      335.23|     305.72|\n",
      "|  MSFT|2023|    5|43301740|323.24| 326.9| 320.0|2023-05-25|325.92| 25|     335.23|     223.0|  21|     324.02|    314.73|      335.23|     305.72|\n",
      "|  MSFT|2023|    5|23384890|314.73| 316.5|312.61|2023-05-24|313.85| 24|     335.23|     223.0|  21|     324.02|    314.73|      335.23|     305.72|\n",
      "+------+----+-----+--------+------+------+------+----------+------+---+-----------+----------+----+-----------+----------+------------+-----------+\n",
      "only showing top 5 rows\n",
      "\n"
     ]
    }
   ],
   "source": [
    "spark.sql(\"SELECT * FROM stockData where Ticker='MSFT' and Year='2023'\").show(5)"
   ]
  },
  {
   "cell_type": "code",
   "execution_count": 49,
   "id": "65854149-5abc-423e-bb60-6b6053e9d081",
   "metadata": {
    "tags": []
   },
   "outputs": [
    {
     "name": "stdout",
     "output_type": "stream",
     "text": [
      "+------+----+-----+---------+------+------+------+----------+------+---+-----------+----------+----+-----------+----------+------------+-----------+\n",
      "|Ticker|year|month|   Volume|  Open|  High|   Low|ParsedDate| Close|Day|Yearly_High|Yearly_Low|Week|Weekly_High|Weekly_Low|Monthly_High|Monthly_Low|\n",
      "+------+----+-----+---------+------+------+------+----------+------+---+-----------+----------+----+-----------+----------+------------+-----------+\n",
      "|  TSLA|2023|    5|150711700|199.78|203.95|195.12|2023-05-31|203.93| 31|     211.76|     103.0|  22|      200.1|    199.78|       200.1|     160.01|\n",
      "|  TSLA|2023|    5|128818700| 200.1|204.48|197.53|2023-05-30|201.16| 30|     211.76|     103.0|  22|      200.1|    199.78|       200.1|     160.01|\n",
      "|  TSLA|2023|    5|162061500|184.62| 198.6|184.53|2023-05-26|193.17| 26|     211.76|     103.0|  21|     186.54|     180.7|       200.1|     160.01|\n",
      "|  TSLA|2023|    5| 96870720|186.54|186.78|180.58|2023-05-25|184.47| 25|     211.76|     103.0|  21|     186.54|     180.7|       200.1|     160.01|\n",
      "|  TSLA|2023|    5|137605100|182.23|184.22|178.22|2023-05-24| 182.9| 24|     211.76|     103.0|  21|     186.54|     180.7|       200.1|     160.01|\n",
      "+------+----+-----+---------+------+------+------+----------+------+---+-----------+----------+----+-----------+----------+------------+-----------+\n",
      "only showing top 5 rows\n",
      "\n"
     ]
    }
   ],
   "source": [
    "spark.sql(\"SELECT * FROM stockData WHERE Ticker IN ('TSLA', 'AMZN') AND Year='2023'\").show(5)"
   ]
  },
  {
   "cell_type": "code",
   "execution_count": 72,
   "id": "3d5341aa-1f73-4fb5-9d16-c55d904fe524",
   "metadata": {
    "tags": []
   },
   "outputs": [
    {
     "name": "stdout",
     "output_type": "stream",
     "text": [
      "+------+----------+------+------+------+------------------+\n",
      "|Ticker|ParsedDate|  High|   Low| Close|        Volatility|\n",
      "+------+----------+------+------+------+------------------+\n",
      "| BRK-B|2023-05-31|322.41|319.39|321.08|0.9405721751493111|\n",
      "| BRK-B|2023-05-30|322.47| 319.0|322.19|1.0770046228651002|\n",
      "| BRK-B|2023-05-26|322.63|319.67| 320.6|0.9232661879995099|\n",
      "| BRK-B|2023-05-25|320.56|317.71|319.02|0.8933628617840262|\n",
      "| BRK-B|2023-05-24| 323.0|319.56| 320.2|1.0743292661656905|\n",
      "| BRK-B|2023-05-23|329.27|322.97|323.11|1.9497966879958835|\n",
      "| BRK-B|2023-05-22|331.49|328.35|329.13|0.9540254866697351|\n",
      "| BRK-B|2023-05-19|333.94|329.12|330.39|1.4588840795771747|\n",
      "| BRK-B|2023-05-18|329.98|325.85|329.76|1.2524274504200426|\n",
      "| BRK-B|2023-05-17|328.26|324.82|327.39|1.0507352965850962|\n",
      "| BRK-B|2023-05-16|324.69|322.36|323.75|0.7196963984073359|\n",
      "| BRK-B|2023-05-15|323.83|320.13|323.53| 1.143628629003009|\n",
      "| BRK-B|2023-05-12|324.24|320.54|322.49|1.1473167544716973|\n",
      "| BRK-B|2023-05-11|322.96|319.81|322.64|0.9763184209859228|\n",
      "| BRK-B|2023-05-10|326.16|320.15|322.99|1.8607418023276467|\n",
      "| BRK-B|2023-05-09|326.88|323.48|324.87|1.0465706121176026|\n",
      "| BRK-B|2023-05-08|330.69|325.79|326.14|1.5024203337227178|\n",
      "| BRK-B|2023-05-05|325.16|322.62|323.88| 0.784243703417539|\n",
      "| BRK-B|2023-05-04|325.99|317.41| 320.0| 2.681245803833008|\n",
      "| BRK-B|2023-05-03|328.07|323.06|323.22|1.5500308603130144|\n",
      "+------+----------+------+------+------+------------------+\n",
      "only showing top 20 rows\n",
      "\n"
     ]
    }
   ],
   "source": [
    "#calculate percentage volatility for each day \n",
    "stocks = stocks.withColumn('Volatility', ((stocks.High - stocks.Low) / stocks.Close) * 100)\n",
    "stocks.select('Ticker', 'ParsedDate', 'High', 'Low', 'Close', 'Volatility').show()"
   ]
  },
  {
   "cell_type": "code",
   "execution_count": 81,
   "id": "bda3c8a7-468d-4512-a722-759548564f23",
   "metadata": {
    "tags": []
   },
   "outputs": [
    {
     "name": "stdout",
     "output_type": "stream",
     "text": [
      "+------+----+---------+\n",
      "|Ticker|year|Avg_Price|\n",
      "+------+----+---------+\n",
      "| BRK-B|2023|   313.52|\n",
      "|  MSFT|2023|    273.7|\n",
      "|  META|2023|   194.21|\n",
      "|  TSLA|2023|   174.72|\n",
      "|  AMZN|2023|   100.97|\n",
      "|  AAPL|2023|    155.9|\n",
      "| GOOGL|2023|   101.87|\n",
      "|  NVDA|2023|    246.0|\n",
      "|     V|2023|   225.32|\n",
      "|   TSM|2023|    89.13|\n",
      "|   SPY|2023|    404.1|\n",
      "|   QQQ|2023|   306.28|\n",
      "|  MSFT|2022|   268.95|\n",
      "| BRK-B|2022|   304.52|\n",
      "|  META|2022|   180.29|\n",
      "|  TSLA|2022|   263.58|\n",
      "|  AAPL|2022|   154.81|\n",
      "|  AMZN|2022|   126.19|\n",
      "|  NVDA|2022|   185.71|\n",
      "| GOOGL|2022|   114.83|\n",
      "|     V|2022|   206.92|\n",
      "|   TSM|2022|    91.03|\n",
      "|   SPY|2022|   408.87|\n",
      "|   QQQ|2022|   310.79|\n",
      "|  MSFT|2021|   275.77|\n",
      "| BRK-B|2021|    272.7|\n",
      "|  META|2021|   321.17|\n",
      "|  TSLA|2021|   259.97|\n",
      "|  AMZN|2021|   167.25|\n",
      "|  AAPL|2021|   140.92|\n",
      "| GOOGL|2021|   124.17|\n",
      "|  NVDA|2021|    195.1|\n",
      "|   TSM|2021|   118.91|\n",
      "|     V|2021|   222.29|\n",
      "|   SPY|2021|   426.15|\n",
      "+------+----+---------+\n",
      "only showing top 35 rows\n",
      "\n"
     ]
    }
   ],
   "source": [
    "# calculate the monthly average price\n",
    "stocks = stocks.withColumn('Yearly_Avg_Price', \n",
    "                           (stocks.Open + stocks.High + stocks.Low + stocks.Close) / 4)\n",
    "\n",
    "yearly_avg = stocks.groupBy('Ticker', 'year').agg(\n",
    "    func.round(func.avg('Yearly_Avg_Price'), 2).alias('Avg_Price')\n",
    ")\n",
    "\n",
    "yearly_avg.orderBy('year', ascending = False).show(35)"
   ]
  },
  {
   "cell_type": "code",
   "execution_count": 50,
   "id": "97e7b5c1-5f4a-4d07-a6a9-9d78b9be7672",
   "metadata": {
    "tags": []
   },
   "outputs": [
    {
     "name": "stdout",
     "output_type": "stream",
     "text": [
      "+------+-----+------------------+\n",
      "|Ticker|Month|         Avg_Close|\n",
      "+------+-----+------------------+\n",
      "|  MSFT|    1|237.28099975585937|\n",
      "|  MSFT|    2|259.69737002724094|\n",
      "|  MSFT|    3| 266.7426101021145|\n",
      "|  MSFT|    4|288.64105224609375|\n",
      "|  MSFT|    5|314.51045365767044|\n",
      "+------+-----+------------------+\n",
      "\n"
     ]
    },
    {
     "name": "stderr",
     "output_type": "stream",
     "text": [
      "25/01/28 14:15:18 WARN GarbageCollectionMetrics: To enable non-built-in garbage collector(s) List(G1 Concurrent GC), users should configure it(them) to spark.eventLog.gcMetrics.youngGenerationGarbageCollectors or spark.eventLog.gcMetrics.oldGenerationGarbageCollectors\n"
     ]
    }
   ],
   "source": [
    "spark.sql(\"\"\"\n",
    "    SELECT Ticker, Month, AVG(Close) AS Avg_Close\n",
    "    FROM stockData\n",
    "    WHERE Ticker='MSFT' AND Year='2023'\n",
    "    GROUP BY Ticker, Month\n",
    "    ORDER BY Month\n",
    "\"\"\").show()"
   ]
  },
  {
   "cell_type": "code",
   "execution_count": 82,
   "id": "a8f81cc2-b692-4ae9-a9b5-61aa74b6478b",
   "metadata": {
    "tags": []
   },
   "outputs": [
    {
     "name": "stdout",
     "output_type": "stream",
     "text": [
      "+------+----+-----+------------+\n",
      "|Ticker|year|month|Total_Volume|\n",
      "+------+----+-----+------------+\n",
      "|  TSLA|2020|    2|  7102586599|\n",
      "|  TSLA|2020|    3|  6316006343|\n",
      "|  AAPL|2020|    3|  6281326760|\n",
      "|  TSLA|2020|    1|  6124570978|\n",
      "|   SPY|2020|    3|  5926710300|\n",
      "|  TSLA|2020|    4|  5723429838|\n",
      "|  TSLA|2020|    7|  5680830222|\n",
      "|  TSLA|2020|    9|  5210857991|\n",
      "|  TSLA|2020|    8|  4673629206|\n",
      "|  TSLA|2018|   10|  4271037461|\n",
      "|  TSLA|2019|    5|  4238980543|\n",
      "|  TSLA|2018|    8|  4125272693|\n",
      "|  TSLA|2020|    5|  4092712973|\n",
      "|  AAPL|2020|    8|  4070343860|\n",
      "|  TSLA|2023|    1|  3897499400|\n",
      "|  AAPL|2020|    9|  3886793100|\n",
      "|  TSLA|2020|    6|  3838774921|\n",
      "|  AAPL|2018|   11|  3808828080|\n",
      "|  AMZN|2018|   10|  3637687100|\n",
      "|  TSLA|2023|    2|  3625947300|\n",
      "+------+----+-----+------------+\n",
      "only showing top 20 rows\n",
      "\n"
     ]
    }
   ],
   "source": [
    "# analyze which months had the highest trading volume\n",
    "monthly_volume = stocks.groupBy('Ticker', 'year', 'month').agg(\n",
    "    func.sum('Volume').alias('Total_Volume')).orderBy(func.desc('Total_Volume'))\n",
    "monthly_volume.show()"
   ]
  },
  {
   "cell_type": "markdown",
   "id": "b5fbaac7-80f3-4074-9ebf-cb61b0332349",
   "metadata": {},
   "source": [
    "# Advanced Analysis"
   ]
  },
  {
   "cell_type": "code",
   "execution_count": 52,
   "id": "12c43e68-ae2f-488b-b540-c2cb0385eafd",
   "metadata": {
    "tags": []
   },
   "outputs": [],
   "source": [
    "snapshot = historic_stocks.select(['Ticker', 'ParsedDate', 'Open'])"
   ]
  },
  {
   "cell_type": "code",
   "execution_count": 55,
   "id": "6affe6d7-fd9a-4217-a816-0ca8f2cb51a1",
   "metadata": {
    "tags": []
   },
   "outputs": [
    {
     "name": "stdout",
     "output_type": "stream",
     "text": [
      "+------+----------+------+\n",
      "|Ticker|ParsedDate|  Open|\n",
      "+------+----------+------+\n",
      "| BRK-B|2023-05-31|321.12|\n",
      "| BRK-B|2023-05-30|321.86|\n",
      "| BRK-B|2023-05-26|320.44|\n",
      "| BRK-B|2023-05-25|320.56|\n",
      "| BRK-B|2023-05-24|322.71|\n",
      "| BRK-B|2023-05-23|328.19|\n",
      "| BRK-B|2023-05-22|330.75|\n",
      "| BRK-B|2023-05-19| 331.0|\n",
      "| BRK-B|2023-05-18|326.87|\n",
      "| BRK-B|2023-05-17|325.02|\n",
      "| BRK-B|2023-05-16|322.46|\n",
      "| BRK-B|2023-05-15|322.89|\n",
      "| BRK-B|2023-05-12|323.82|\n",
      "| BRK-B|2023-05-11| 321.0|\n",
      "| BRK-B|2023-05-10|326.08|\n",
      "| BRK-B|2023-05-09|324.87|\n",
      "| BRK-B|2023-05-08|328.26|\n",
      "| BRK-B|2023-05-05|323.36|\n",
      "| BRK-B|2023-05-04|323.44|\n",
      "| BRK-B|2023-05-03|327.13|\n",
      "+------+----------+------+\n",
      "only showing top 20 rows\n",
      "\n"
     ]
    }
   ],
   "source": [
    "snapshot.show()"
   ]
  },
  {
   "cell_type": "code",
   "execution_count": 56,
   "id": "b24ccb0c-fbb2-47db-9777-905998ad758d",
   "metadata": {
    "tags": []
   },
   "outputs": [],
   "source": [
    "# comparetion of previous open day with next day\n",
    "from pyspark.sql.window import Window\n",
    "lag1day  = Window.partitionBy('Ticker').orderBy('ParsedDate')\n"
   ]
  },
  {
   "cell_type": "code",
   "execution_count": 58,
   "id": "e7d9a1d0-1f44-4e65-9366-b198ef2ae641",
   "metadata": {
    "tags": []
   },
   "outputs": [
    {
     "name": "stdout",
     "output_type": "stream",
     "text": [
      "+------+----------+-----+------------+\n",
      "|Ticker|ParsedDate| Open|PreviousOpen|\n",
      "+------+----------+-----+------------+\n",
      "|  AAPL|2018-05-31|46.81|        NULL|\n",
      "|  AAPL|2018-06-01| 47.0|       46.81|\n",
      "|  AAPL|2018-06-04|47.91|        47.0|\n",
      "|  AAPL|2018-06-05|48.27|       47.91|\n",
      "|  AAPL|2018-06-06|48.41|       48.27|\n",
      "|  AAPL|2018-06-07|48.54|       48.41|\n",
      "|  AAPL|2018-06-08|47.79|       48.54|\n",
      "|  AAPL|2018-06-11|47.84|       47.79|\n",
      "|  AAPL|2018-06-12|47.85|       47.84|\n",
      "|  AAPL|2018-06-13|48.11|       47.85|\n",
      "|  AAPL|2018-06-14|47.89|       48.11|\n",
      "|  AAPL|2018-06-15|47.51|       47.89|\n",
      "|  AAPL|2018-06-18|46.97|       47.51|\n",
      "|  AAPL|2018-06-19|46.29|       46.97|\n",
      "|  AAPL|2018-06-20|46.59|       46.29|\n",
      "|  AAPL|2018-06-21|46.81|       46.59|\n",
      "|  AAPL|2018-06-22|46.53|       46.81|\n",
      "|  AAPL|2018-06-25|45.85|       46.53|\n",
      "|  AAPL|2018-06-26|45.75|       45.85|\n",
      "|  AAPL|2018-06-27|46.31|       45.75|\n",
      "+------+----------+-----+------------+\n",
      "only showing top 20 rows\n",
      "\n"
     ]
    }
   ],
   "source": [
    "snapshot.withColumn('PreviousOpen', func.lag('Open', 1).over(lag1day)).show()"
   ]
  },
  {
   "cell_type": "code",
   "execution_count": 62,
   "id": "11ee7bce-ddf4-48d2-a882-7e352386d4d3",
   "metadata": {
    "tags": []
   },
   "outputs": [],
   "source": [
    "# calculate 50 day moving average\n",
    "\n",
    "movingAverage = Window.partitionBy('Ticker').orderBy('ParsedDate').rowsBetween(-50,0)"
   ]
  },
  {
   "cell_type": "code",
   "execution_count": 60,
   "id": "57c16fc2-9d79-4174-9f0c-3da17f6396fa",
   "metadata": {
    "tags": []
   },
   "outputs": [
    {
     "name": "stdout",
     "output_type": "stream",
     "text": [
      "+------+----------+-----+-----+\n",
      "|Ticker|ParsedDate| Open| MA50|\n",
      "+------+----------+-----+-----+\n",
      "|  AAPL|2018-05-31|46.81|46.81|\n",
      "|  AAPL|2018-06-01| 47.0|46.91|\n",
      "|  AAPL|2018-06-04|47.91|47.24|\n",
      "|  AAPL|2018-06-05|48.27| 47.5|\n",
      "|  AAPL|2018-06-06|48.41|47.68|\n",
      "|  AAPL|2018-06-07|48.54|47.82|\n",
      "|  AAPL|2018-06-08|47.79|47.82|\n",
      "|  AAPL|2018-06-11|47.84|47.82|\n",
      "|  AAPL|2018-06-12|47.85|47.82|\n",
      "|  AAPL|2018-06-13|48.11|47.85|\n",
      "|  AAPL|2018-06-14|47.89|47.86|\n",
      "|  AAPL|2018-06-15|47.51|47.83|\n",
      "|  AAPL|2018-06-18|46.97|47.76|\n",
      "|  AAPL|2018-06-19|46.29|47.66|\n",
      "|  AAPL|2018-06-20|46.59|47.59|\n",
      "|  AAPL|2018-06-21|46.81|47.54|\n",
      "|  AAPL|2018-06-22|46.53|47.48|\n",
      "|  AAPL|2018-06-25|45.85|47.39|\n",
      "|  AAPL|2018-06-26|45.75| 47.3|\n",
      "|  AAPL|2018-06-27|46.31|47.25|\n",
      "+------+----------+-----+-----+\n",
      "only showing top 20 rows\n",
      "\n"
     ]
    }
   ],
   "source": [
    "(snapshot.withColumn('MA50', func.avg('Open').over(movingAverage))\n",
    "         .withColumn('MA50', func.round('MA50', 2))).show()"
   ]
  },
  {
   "cell_type": "code",
   "execution_count": 63,
   "id": "a67f9c74-afda-445b-b876-b4138790ff91",
   "metadata": {
    "tags": []
   },
   "outputs": [],
   "source": [
    "maximumStock = Window.partitionBy(\"Ticker\").orderBy(snapshot.Open.desc())"
   ]
  },
  {
   "cell_type": "code",
   "execution_count": 64,
   "id": "3db910ad-4829-4b75-afd0-57f2ba648a6e",
   "metadata": {
    "tags": []
   },
   "outputs": [
    {
     "name": "stdout",
     "output_type": "stream",
     "text": [
      "+------+----------+------+-------+\n",
      "|Ticker|ParsedDate|  Open|MaxOpen|\n",
      "+------+----------+------+-------+\n",
      "|  AAPL|2022-01-04|182.63|      1|\n",
      "|  AAPL|2021-12-13|181.12|      2|\n",
      "|  AAPL|2021-12-28|180.16|      3|\n",
      "|  AAPL|2022-01-05|179.61|      4|\n",
      "|  AAPL|2021-12-30|179.47|      5|\n",
      "|  AAPL|2021-12-29|179.33|      6|\n",
      "|  AAPL|2021-12-16|179.28|      7|\n",
      "|  AAPL|2022-03-30|178.55|      8|\n",
      "|  AAPL|2021-12-31|178.09|      9|\n",
      "|  AAPL|2022-03-31|177.84|     10|\n",
      "|  AAPL|2022-01-03|177.83|     11|\n",
      "|  AAPL|2022-04-05| 177.5|     12|\n",
      "|  AAPL|2023-05-31|177.33|     13|\n",
      "|  AAPL|2021-12-27|177.09|     14|\n",
      "|  AAPL|2023-05-30|176.96|     15|\n",
      "|  AAPL|2022-03-29|176.69|     16|\n",
      "|  AAPL|2023-05-19|176.39|     17|\n",
      "|  AAPL|2022-01-12|176.12|     18|\n",
      "|  AAPL|2022-02-09|176.05|     19|\n",
      "|  AAPL|2021-12-23|175.85|     20|\n",
      "+------+----------+------+-------+\n",
      "only showing top 20 rows\n",
      "\n"
     ]
    }
   ],
   "source": [
    "snapshot.withColumn(\"MaxOpen\", func.row_number().over(maximumStock)).show()"
   ]
  },
  {
   "cell_type": "code",
   "execution_count": 71,
   "id": "13019577-8dcb-4fa5-b526-c7dcea5756ac",
   "metadata": {
    "tags": []
   },
   "outputs": [
    {
     "name": "stdout",
     "output_type": "stream",
     "text": [
      "+------+----------+------+-------+\n",
      "|Ticker|ParsedDate|  Open|MaxOpen|\n",
      "+------+----------+------+-------+\n",
      "|  AAPL|2022-01-04|182.63|      1|\n",
      "|  AAPL|2021-12-13|181.12|      2|\n",
      "|  AAPL|2021-12-28|180.16|      3|\n",
      "|  AMZN|2021-07-12| 187.2|      1|\n",
      "|  AMZN|2021-07-09|186.13|      2|\n",
      "|  AMZN|2021-07-07|185.87|      3|\n",
      "| BRK-B|2022-03-29|361.39|      1|\n",
      "| BRK-B|2022-03-28|360.59|      2|\n",
      "| BRK-B|2022-03-31| 359.0|      3|\n",
      "| GOOGL|2022-02-02|151.25|      1|\n",
      "| GOOGL|2021-11-19|149.98|      2|\n",
      "| GOOGL|2021-11-08|149.83|      3|\n",
      "|  META|2021-09-13|381.68|      1|\n",
      "|  META|2021-09-02| 381.5|      2|\n",
      "|  META|2021-09-10|381.36|      3|\n",
      "|  MSFT|2021-11-22|344.62|      1|\n",
      "|  MSFT|2021-12-28|343.15|      2|\n",
      "|  MSFT|2021-11-19|342.64|      3|\n",
      "|  NVDA|2023-05-30|405.95|      1|\n",
      "|  NVDA|2023-05-31|394.88|      2|\n",
      "|  NVDA|2023-05-25|385.23|      3|\n",
      "|   QQQ|2021-11-22|405.57|      1|\n",
      "|   QQQ|2021-12-28| 404.4|      2|\n",
      "|   QQQ|2021-11-19|403.43|      3|\n",
      "|   SPY|2022-01-04|479.22|      1|\n",
      "|   SPY|2021-12-30|477.93|      2|\n",
      "|   SPY|2021-12-28|477.72|      3|\n",
      "|  TSLA|2021-11-04|411.47|      1|\n",
      "|  TSLA|2021-11-05|409.33|      2|\n",
      "|  TSLA|2022-01-04|396.52|      3|\n",
      "|   TSM|2021-02-16|141.61|      1|\n",
      "|   TSM|2022-01-13|140.75|      2|\n",
      "|   TSM|2021-02-17|139.21|      3|\n",
      "|     V|2021-07-28|250.05|      1|\n",
      "|     V|2021-07-16|249.99|      2|\n",
      "+------+----------+------+-------+\n",
      "only showing top 35 rows\n",
      "\n"
     ]
    }
   ],
   "source": [
    "# calculate top 5 highest close price for each stock in a year\n",
    "snapshot.withColumn(\"MaxOpen\", func.row_number().over(maximumStock)).filter(\"MaxOpen<=3\").show(35)"
   ]
  },
  {
   "cell_type": "code",
   "execution_count": 73,
   "id": "e01ba4db-b557-40e8-80f5-70886543386b",
   "metadata": {
    "tags": []
   },
   "outputs": [
    {
     "name": "stdout",
     "output_type": "stream",
     "text": [
      "+------+----------+---------+-----------------+\n",
      "|Ticker|ParsedDate|   Volume|Cumulative_Volume|\n",
      "+------+----------+---------+-----------------+\n",
      "|  AAPL|2018-05-31|109874800|        109874800|\n",
      "|  AAPL|2018-06-01| 93510760|        203385560|\n",
      "|  AAPL|2018-06-04|104762480|        308148040|\n",
      "|  AAPL|2018-06-05| 86142280|        394290320|\n",
      "|  AAPL|2018-06-06| 83651280|        477941600|\n",
      "|  AAPL|2018-06-07| 85316680|        563258280|\n",
      "|  AAPL|2018-06-08|106322840|        669581120|\n",
      "|  AAPL|2018-06-11| 72279720|        741860840|\n",
      "|  AAPL|2018-06-12| 67436080|        809296920|\n",
      "|  AAPL|2018-06-13| 85920480|        895217400|\n",
      "|  AAPL|2018-06-14| 86338880|        981556280|\n",
      "|  AAPL|2018-06-15|245753160|       1227309440|\n",
      "|  AAPL|2018-06-18| 73833640|       1301143080|\n",
      "|  AAPL|2018-06-19|134154200|       1435297280|\n",
      "|  AAPL|2018-06-20| 81960360|       1517257640|\n",
      "|  AAPL|2018-06-21|102596960|       1619854600|\n",
      "|  AAPL|2018-06-22|108740520|       1728595120|\n",
      "|  AAPL|2018-06-25|126529280|       1855124400|\n",
      "|  AAPL|2018-06-26| 97513920|       1952638320|\n",
      "|  AAPL|2018-06-27| 99949040|       2052587360|\n",
      "+------+----------+---------+-----------------+\n",
      "only showing top 20 rows\n",
      "\n"
     ]
    }
   ],
   "source": [
    "# calculate the cumulative volume for each stock ticker\n",
    "from pyspark.sql import Window\n",
    "volume_window = Window.partitionBy('Ticker').orderBy('ParsedDate').rowsBetween(Window.unboundedPreceding, 0)\n",
    "stocks = stocks.withColumn('Cumulative_Volume', func.sum('Volume').over(volume_window))\n",
    "stocks.select('Ticker', 'ParsedDate', 'Volume', 'Cumulative_Volume').show()"
   ]
  },
  {
   "cell_type": "code",
   "execution_count": 91,
   "id": "37a75eca-6b6c-49e3-93f0-8ff51d115505",
   "metadata": {
    "tags": []
   },
   "outputs": [
    {
     "name": "stdout",
     "output_type": "stream",
     "text": [
      "top 5 yearly gainers:\n",
      "+------+----+-----------+----------+-------------+\n",
      "|Ticker|year|First_Close|Last_Close|Yearly_Change|\n",
      "+------+----+-----------+----------+-------------+\n",
      "|  TSLA|2022|     123.18|    399.93|      224.671|\n",
      "|  META|2022|     120.34|    338.54|       181.32|\n",
      "|  NVDA|2022|     146.14|    301.21|      106.111|\n",
      "|  AMZN|2022|       84.0|     170.4|      102.857|\n",
      "|  NVDA|2018|      33.38|     63.05|       88.886|\n",
      "+------+----+-----------+----------+-------------+\n",
      "\n",
      "top 5 yearly losers:\n",
      "+------+----+-----------+----------+-------------+\n",
      "|Ticker|year|First_Close|Last_Close|Yearly_Change|\n",
      "+------+----+-----------+----------+-------------+\n",
      "|  TSLA|2020|     235.22|     28.68|      -87.807|\n",
      "|  NVDA|2023|     378.34|    143.15|      -62.164|\n",
      "|  NVDA|2021|     294.11|    131.14|      -55.411|\n",
      "|  NVDA|2020|     130.55|     59.98|      -54.056|\n",
      "|  META|2023|     264.72|    124.74|      -52.879|\n",
      "+------+----+-----------+----------+-------------+\n",
      "\n"
     ]
    }
   ],
   "source": [
    "# find the top 5 gaining and losing stocks each year\n",
    "from pyspark.sql import functions as func\n",
    "\n",
    "# grouping by ticker and year \n",
    "yearly_change = stocks.groupBy('Ticker', 'year').agg(\n",
    "    func.first('Close').alias('First_Close'),\n",
    "    func.last('Close').alias('Last_Close')\n",
    ").withColumn(\n",
    "    'Yearly_Change',\n",
    "    func.round(((func.col('Last_Close') - func.col('First_Close')) / func.col('First_Close')) * 100, 3) \n",
    ")\n",
    "\n",
    "# getting top 5 yearly gainers and losers\n",
    "top_gainers = yearly_change.orderBy(func.desc('Yearly_Change')).limit(5)\n",
    "top_losers = yearly_change.orderBy('Yearly_Change').limit(5)\n",
    "\n",
    "\n",
    "print(\"top 5 yearly gainers:\")\n",
    "top_gainers.show()\n",
    "\n",
    "print(\"top 5 yearly losers:\")\n",
    "top_losers.show()"
   ]
  },
  {
   "cell_type": "markdown",
   "id": "1ae4e730-01f5-4960-8150-3229be71c4db",
   "metadata": {
    "tags": []
   },
   "source": [
    "# Saving Data"
   ]
  },
  {
   "cell_type": "code",
   "execution_count": 95,
   "id": "044d5165-c48e-4a03-bc5a-6fe5b4398616",
   "metadata": {
    "tags": []
   },
   "outputs": [
    {
     "name": "stderr",
     "output_type": "stream",
     "text": [
      "                                                                                \r"
     ]
    }
   ],
   "source": [
    "# parquet format\n",
    "(moving_avg.write.option(\"header\",True)\n",
    "             .partitionBy(\"Ticker\", \"ParsedDate\")\n",
    "             .mode(\"overwrite\")\n",
    "             .parquet(\"movingAverage_parquet\"))"
   ]
  },
  {
   "cell_type": "code",
   "execution_count": null,
   "id": "d4ce0c88-2d0a-479a-8aa5-7f1dbd1d9c65",
   "metadata": {},
   "outputs": [],
   "source": []
  }
 ],
 "metadata": {
  "kernelspec": {
   "display_name": "Python 3 (ipykernel)",
   "language": "python",
   "name": "python3"
  },
  "language_info": {
   "codemirror_mode": {
    "name": "ipython",
    "version": 3
   },
   "file_extension": ".py",
   "mimetype": "text/x-python",
   "name": "python",
   "nbconvert_exporter": "python",
   "pygments_lexer": "ipython3",
   "version": "3.11.4"
  }
 },
 "nbformat": 4,
 "nbformat_minor": 5
}
